{
  "nbformat": 4,
  "nbformat_minor": 0,
  "metadata": {
    "colab": {
      "provenance": []
    },
    "kernelspec": {
      "name": "python3",
      "display_name": "Python 3"
    },
    "language_info": {
      "name": "python"
    }
  },
  "cells": [
    {
      "cell_type": "markdown",
      "source": [
        "Theoretical Questions:\n",
        "\n",
        "1. Explain the purpose and advantages of NumPy in scientific computing and data analysis. How does it\n",
        "enhance Python's capabilities for numerical operations?\n",
        "\n",
        "\n",
        "2. Compare and contrast np.mean() and np.average() functions in NumPy. When would you use one over the\n",
        "other?\n",
        "\n",
        "\n",
        "3. Describe the methods for reversing a NumPy array along different axes. Provide examples for 1D and 2D\n",
        "arrays.\n",
        "\n",
        "\n",
        "4. How can you determine the data type of elements in a NumPy array? Discuss the importance of data types\n",
        "in memory management and performance.\n",
        "\n",
        "\n",
        "5. Define ndarrays in NumPy and explain their key features. How do they differ from standard Python lists?\n",
        "\n",
        "\n",
        "6. Analyze the performance benefits of NumPy arrays over Python lists for large-scale numerical operations.\n",
        "\n",
        "\n",
        "7. Compare vstack() and hstack() functions in NumPy. Provide examples demonstrating their usage and\n",
        "output.\n",
        "\n",
        "\n",
        "8. Explain the differences between fliplr() and flipud() methods in NumPy, including their effects on various\n",
        "array dimensions.\n",
        "\n",
        "\n",
        "9. Discuss the functionality of the array_split() method in NumPy. How does it handle uneven splits?\n",
        "\n",
        "\n",
        "10. Explain the concepts of vectorization and broadcasting in NumPy. How do they contribute to efficient array\n",
        "operations?"
      ],
      "metadata": {
        "id": "JBSrnWjAUymC"
      }
    },
    {
      "cell_type": "markdown",
      "source": [
        "###1. Purpose and Advantages of NumPy\n",
        "Purpose: NumPy is a powerful library for numerical computations in Python. It provides support for arrays, matrices, and a plethora of mathematical functions to operate on these data structures.\n",
        "\n",
        "Advantages:\n",
        "\n",
        "Efficiency: NumPy arrays are more efficient in terms of performance and memory usage compared to traditional Python lists.\n",
        "\n",
        "Convenience: It provides various operations and functions for numerical computations that are both easy to use and highly optimized.\n",
        "\n",
        "Integration: NumPy seamlessly integrates with other scientific computing libraries such as SciPy, Matplotlib, and Pandas.\n",
        "\n",
        "\n"
      ],
      "metadata": {
        "id": "elyW7Ok6VVDD"
      }
    },
    {
      "cell_type": "markdown",
      "source": [
        "2. Compare and contrast np.mean() and np.average() functions in NumPy. When would you use one over the\n",
        "other?\n",
        "\n",
        "- **`np.mean()`**: Calculates the arithmetic mean without considering weights.\n",
        "- **`np.average()`**: Calculates the weighted average if weights are provided.\n",
        "- **Use Case**: Use `np.mean()` for simple averages and `np.average()` when weights are needed.\n"
      ],
      "metadata": {
        "id": "JdHqUUusVo0C"
      }
    },
    {
      "cell_type": "markdown",
      "source": [
        "### 3. Methods for Reversing a NumPy Array\n",
        "- **1D Array**: `arr[::-1]`\n",
        "- **2D Array (Flip Rows)**: `arr[::-1, :]`\n",
        "- **2D Array (Flip Columns)**: `arr[:, ::-1]`\n",
        "\n",
        "Example:"
      ],
      "metadata": {
        "id": "c4T1X-Klg_-W"
      }
    },
    {
      "cell_type": "code",
      "source": [
        "import numpy as np\n",
        "arr_1d = np.array([1, 2, 3, 4, 5])\n",
        "arr_2d = np.array([[1, 2, 3], [4, 5, 6]])\n",
        "reversed_1d = arr_1d[::-1]\n",
        "reversed_2d_rows = arr_2d[::-1, :]\n",
        "reversed_2d_columns = arr_2d[:, ::-1]"
      ],
      "metadata": {
        "id": "Mw3QyN_UgziL"
      },
      "execution_count": null,
      "outputs": []
    },
    {
      "cell_type": "markdown",
      "source": [
        "## 4. Determine Data Type in a NumPy Array\n",
        "- **Method**: Use `arr.dtype` to check the data type of elements in a NumPy array.\n",
        "- **Importance**: Choosing the right data type optimizes memory usage and speeds up computation.\n",
        "\n",
        "Example:\n"
      ],
      "metadata": {
        "id": "XaYV8TohhKOD"
      }
    },
    {
      "cell_type": "code",
      "source": [
        "import numpy as np\n",
        "\n",
        "arr = np.array([1, 2, 3])\n",
        "print(arr.dtype)"
      ],
      "metadata": {
        "colab": {
          "base_uri": "https://localhost:8080/"
        },
        "id": "9nnNb66ThNNc",
        "outputId": "d68d3585-6f8e-4d58-b10a-5804ddf7e4b9"
      },
      "execution_count": null,
      "outputs": [
        {
          "output_type": "stream",
          "name": "stdout",
          "text": [
            "int64\n"
          ]
        }
      ]
    },
    {
      "cell_type": "markdown",
      "source": [
        "###5. ndarrays vs Python Lists And arrays:\n",
        "\n",
        "Homogeneous: All elements must be of the same type.\n",
        "\n",
        "Efficient: Optimized for mathematical and numerical computations.\n",
        "\n",
        "Multi-dimensional: Can create multi-dimensional arrays easily.\n",
        "\n",
        "Python Lists:\n",
        "\n",
        "Heterogeneous: Can contain elements of different types.\n",
        "\n",
        "Less Efficient: Not optimized for numerical computations."
      ],
      "metadata": {
        "id": "kZ7kWMg4ee_Q"
      }
    },
    {
      "cell_type": "markdown",
      "source": [
        "###6. Performance Benefits of NumPy Arrays\n",
        "Vectorization: NumPy uses highly optimized C and Fortran libraries to perform operations.\n",
        "\n",
        "Memory Layout: Uses contiguous memory blocks.\n",
        "\n",
        "Broadcasting: Allows for efficient operations on arrays of different shapes."
      ],
      "metadata": {
        "id": "OAKwhNQqeXyC"
      }
    },
    {
      "cell_type": "markdown",
      "source": [
        "### 7. `vstack()` vs. `hstack()`\n",
        "- **`vstack()`**: Stacks arrays vertically (row-wise).\n",
        "- **`hstack()`**: Stacks arrays horizontally (column-wise).\n",
        "\n",
        "Example:\n",
        "\n"
      ],
      "metadata": {
        "id": "Z76PhGorexB_"
      }
    },
    {
      "cell_type": "code",
      "source": [
        "import numpy as np\n",
        "arr1 = np.array([1, 2])\n",
        "arr2 = np.array([3, 4])\n",
        "result_vstack = np.vstack((arr1, arr2))\n",
        "result_hstack = np.hstack((arr1, arr2))\n",
        "\n"
      ],
      "metadata": {
        "id": "vb1r58fmgbxP"
      },
      "execution_count": null,
      "outputs": []
    },
    {
      "cell_type": "markdown",
      "source": [
        "8. fliplr() vs flipud()\n",
        "\n",
        "#fliplr(): Flips the array left to right.\n",
        "\n",
        "#flipud(): Flips the array upside down.\n",
        "\n"
      ],
      "metadata": {
        "id": "x7MTiEWOhuVI"
      }
    },
    {
      "cell_type": "markdown",
      "source": [],
      "metadata": {
        "id": "1Nsj9ZwRf7w_"
      }
    },
    {
      "cell_type": "markdown",
      "source": [
        "9. Functionality of `array_split()`\n",
        "- **Purpose**: Splits an array into multiple sub-arrays.\n",
        "- **Handling Uneven Splits**: If the array cannot be divided evenly, `array_split()` creates sub-arrays of different sizes.\n",
        "\n",
        "Example:"
      ],
      "metadata": {
        "id": "rg4wUHPUgGrY"
      }
    },
    {
      "cell_type": "code",
      "source": [
        "\n",
        "import numpy as np\n",
        "arr = np.array([1, 2, 3, 4, 5])\n",
        "splits = np.array_split(arr, 3)"
      ],
      "metadata": {
        "id": "_QN8-PF8eCPC"
      },
      "execution_count": null,
      "outputs": []
    },
    {
      "cell_type": "markdown",
      "source": [
        "### 10. Vectorization and Broadcasting\n",
        "##- **Vectorization**: Allows operations on entire arrays without loops, making computations faster.\n",
        "##- **Broadcasting**: Enables operations on arrays with different shapes by expanding them to compatible shapes.\n",
        "\n",
        "#Example:"
      ],
      "metadata": {
        "id": "kf5YljkihlP8"
      }
    },
    {
      "cell_type": "code",
      "source": [
        "\n",
        "\n",
        "import numpy as np\n",
        "a = np.array([1, 2, 3])\n",
        "b = np.array([4, 5, 6])\n",
        "result = a + b  # Vectorized operation\n",
        "print (a+b)"
      ],
      "metadata": {
        "id": "6sWLqzngVnmz",
        "colab": {
          "base_uri": "https://localhost:8080/"
        },
        "outputId": "0da87faf-cfec-4d71-942c-d3eff7e06b99"
      },
      "execution_count": null,
      "outputs": [
        {
          "output_type": "stream",
          "name": "stdout",
          "text": [
            "[5 7 9]\n"
          ]
        }
      ]
    },
    {
      "cell_type": "markdown",
      "source": [
        "Practical Questions:\n",
        "1. Create a 3x3 NumPy array with random integers between 1 and 100. Then, interchange its rows and columns.\n",
        "\n",
        "\n",
        "2. Generate a 1D NumPy array with 10 elements. Reshape it into a 2x5 array, then into a 5x2 array.\n",
        "\n",
        "\n",
        "3. Create a 4x4 NumPy array with random float values. Add a border of zeros around it, resulting in a 6x6 array.\n",
        "\n",
        "\n",
        "4. Using NumPy, create an array of integers from 10 to 60 with a step of 5.\n",
        "\n",
        "\n",
        "5. Create a NumPy array of strings ['python', 'numpy', 'pandas']. Apply different case transformations\n",
        "(uppercase, lowercase, title case, etc.) to each element.\n",
        "\n",
        "\n",
        "6. Generate a NumPy array of words. Insert a space between each character of every word in the array.\n",
        "\n",
        "\n",
        "7. Create two 2D NumPy arrays and perform element-wise addition, subtraction, multiplication, and division.\n",
        "\n",
        "\n",
        "8. Use NumPy to create a 5x5 identity matrix, then extract its diagonal elements.\n",
        "\n",
        "\n",
        "9. Generate a NumPy array of 100 random integers between 0 and 1000. Find and display all prime numbers in\n",
        "this array.\n",
        "\n",
        "\n",
        "10. Create a NumPy array representing daily temperatures for a month. Calculate and display the weekly\n",
        "averages."
      ],
      "metadata": {
        "id": "dSL3bpYxiid4"
      }
    },
    {
      "cell_type": "code",
      "source": [
        "#1. Create a 3x3 NumPy array with random integers between 1 and 100. Then, interchange its rows and columns.\n",
        "\n",
        "import numpy as np\n",
        "\n",
        "# Create a 3x3 array with random integers\n",
        "array_3x3 = np.random.randint(1, 101, size=(3, 3))\n",
        "print(\"Original Array:\\n\", array_3x3)\n",
        "\n",
        "# Interchange rows and columns\n",
        "transposed_array = np.transpose(array_3x3)\n",
        "print(\"Transposed Array:\\n\", transposed_array)"
      ],
      "metadata": {
        "colab": {
          "base_uri": "https://localhost:8080/"
        },
        "id": "mKRQq2bWlKaV",
        "outputId": "d3c1a431-c135-43b5-d566-d27ca08bef80"
      },
      "execution_count": 17,
      "outputs": [
        {
          "output_type": "stream",
          "name": "stdout",
          "text": [
            "Original Array:\n",
            " [[23 20 55]\n",
            " [32 95 71]\n",
            " [76 76 59]]\n",
            "Transposed Array:\n",
            " [[23 32 76]\n",
            " [20 95 76]\n",
            " [55 71 59]]\n"
          ]
        }
      ]
    },
    {
      "cell_type": "code",
      "source": [
        "##2. Generate a 1D NumPy array with 10 elements. Reshape it into a 2x5 array, then into a 5x2 array.\n",
        "\n",
        "# Create a 1D array with 10 elements\n",
        "array_1d = np.arange(10)\n",
        "print(\"1D Array:\\n\", array_1d)\n",
        "\n",
        "# Reshape to 2x5\n",
        "array_2x5 = array_1d.reshape((2, 5))\n",
        "print(\"2x5 Array:\\n\", array_2x5)\n",
        "\n",
        "# Reshape to 5x2\n",
        "array_5x2 = array_2x5.reshape((5, 2))\n",
        "print(\"5x2 Array:\\n\", array_5x2)"
      ],
      "metadata": {
        "colab": {
          "base_uri": "https://localhost:8080/"
        },
        "id": "xkoAyP5WlbMx",
        "outputId": "7ea811cd-27bf-4f97-ed9e-110b5eb9572d"
      },
      "execution_count": 19,
      "outputs": [
        {
          "output_type": "stream",
          "name": "stdout",
          "text": [
            "1D Array:\n",
            " [0 1 2 3 4 5 6 7 8 9]\n",
            "2x5 Array:\n",
            " [[0 1 2 3 4]\n",
            " [5 6 7 8 9]]\n",
            "5x2 Array:\n",
            " [[0 1]\n",
            " [2 3]\n",
            " [4 5]\n",
            " [6 7]\n",
            " [8 9]]\n"
          ]
        }
      ]
    },
    {
      "cell_type": "code",
      "source": [
        "#3. Create a 4x4 NumPy array with random float values. Add a border of zeros around it, resulting in a 6x6 array.\n",
        "\n",
        "# Create a 4x4 array with random float values\n",
        "array_4x4 = np.random.rand(4, 4)\n",
        "print(\"4x4 Array:\\n\", array_4x4)\n",
        "\n",
        "# Add a border of zeros\n",
        "array_6x6 = np.pad(array_4x4, pad_width=1, mode='constant', constant_values=0)\n",
        "print(\"6x6 Array with Border:\\n\", array_6x6)"
      ],
      "metadata": {
        "colab": {
          "base_uri": "https://localhost:8080/"
        },
        "id": "th5Sgw0Ili-Q",
        "outputId": "2dc52665-f57e-4b9c-a48c-0ea813281364"
      },
      "execution_count": 18,
      "outputs": [
        {
          "output_type": "stream",
          "name": "stdout",
          "text": [
            "4x4 Array:\n",
            " [[0.68957109 0.10940218 0.38970649 0.89136045]\n",
            " [0.98265173 0.14229226 0.27416461 0.14707151]\n",
            " [0.25721646 0.7833902  0.14934789 0.74507223]\n",
            " [0.83864988 0.35639004 0.34827371 0.43206094]]\n",
            "6x6 Array with Border:\n",
            " [[0.         0.         0.         0.         0.         0.        ]\n",
            " [0.         0.68957109 0.10940218 0.38970649 0.89136045 0.        ]\n",
            " [0.         0.98265173 0.14229226 0.27416461 0.14707151 0.        ]\n",
            " [0.         0.25721646 0.7833902  0.14934789 0.74507223 0.        ]\n",
            " [0.         0.83864988 0.35639004 0.34827371 0.43206094 0.        ]\n",
            " [0.         0.         0.         0.         0.         0.        ]]\n"
          ]
        }
      ]
    },
    {
      "cell_type": "code",
      "source": [
        "#4. Using NumPy, create an array of integers from 10 to 60 with a step of 5.\n",
        "\n",
        "# Create an array from 10 to 60 with a step of 5\n",
        "array_step = np.arange(10, 61, 5)\n",
        "print(\"Array with Step 5:\\n\", array_step)"
      ],
      "metadata": {
        "colab": {
          "base_uri": "https://localhost:8080/"
        },
        "id": "TqAdjcuslt61",
        "outputId": "9726100e-bbb4-4bac-e95d-626072c8fa08"
      },
      "execution_count": 21,
      "outputs": [
        {
          "output_type": "stream",
          "name": "stdout",
          "text": [
            "Array with Step 5:\n",
            " [10 15 20 25 30 35 40 45 50 55 60]\n"
          ]
        }
      ]
    },
    {
      "cell_type": "code",
      "source": [
        "#5. Create a NumPy array of strings ['python', 'numpy', 'pandas']. Apply different case transformations.\n",
        "# Create an array of strings\n",
        "string_array = np.array(['python', 'numpy', 'pandas'])\n",
        "print(\"Original Array:\\n\", string_array)\n",
        "\n",
        "# Uppercase\n",
        "uppercase_array = np.char.upper(string_array)\n",
        "print(\"Uppercase:\\n\", uppercase_array)\n",
        "\n",
        "# Lowercase\n",
        "lowercase_array = np.char.lower(string_array)\n",
        "print(\"Lowercase:\\n\", lowercase_array)\n",
        "\n",
        "# Title case\n",
        "titlecase_array = np.char.title(string_array)\n",
        "print(\"Title Case:\\n\", titlecase_array)\n"
      ],
      "metadata": {
        "colab": {
          "base_uri": "https://localhost:8080/"
        },
        "id": "5iQso6gwl2bI",
        "outputId": "102e68c7-9b3c-4725-c163-2db926a6fe80"
      },
      "execution_count": 23,
      "outputs": [
        {
          "output_type": "stream",
          "name": "stdout",
          "text": [
            "Original Array:\n",
            " ['python' 'numpy' 'pandas']\n",
            "Uppercase:\n",
            " ['PYTHON' 'NUMPY' 'PANDAS']\n",
            "Lowercase:\n",
            " ['python' 'numpy' 'pandas']\n",
            "Title Case:\n",
            " ['Python' 'Numpy' 'Pandas']\n"
          ]
        }
      ]
    },
    {
      "cell_type": "code",
      "source": [
        "#6. Generate a NumPy array of words. Insert a space between each character of every word in the array.\n",
        "# Create an array of words\n",
        "words_array = np.array(['hello', 'world'])\n",
        "print(\"Original Array:\\n\", words_array)\n",
        "\n",
        "# Insert space between characters\n",
        "spaced_array = np.char.join(' ', words_array)\n",
        "print(\"Spaced Array:\\n\", spaced_array)\n"
      ],
      "metadata": {
        "colab": {
          "base_uri": "https://localhost:8080/"
        },
        "id": "gVis5AtVmFDZ",
        "outputId": "58eba143-9130-4b26-d4af-f20e85972d67"
      },
      "execution_count": 22,
      "outputs": [
        {
          "output_type": "stream",
          "name": "stdout",
          "text": [
            "Original Array:\n",
            " ['hello' 'world']\n",
            "Spaced Array:\n",
            " ['h e l l o' 'w o r l d']\n"
          ]
        }
      ]
    },
    {
      "cell_type": "code",
      "source": [
        "#7. Create two 2D NumPy arrays and perform element-wise addition, subtraction, multiplication, and division.\n",
        "# Create two 2D arrays\n",
        "array1 = np.array([[1, 2], [3, 4]])\n",
        "array2 = np.array([[5, 6], [7, 8]])\n",
        "\n",
        "# Element-wise operations\n",
        "add = np.add(array1, array2)\n",
        "subtract = np.subtract(array1, array2)\n",
        "multiply = np.multiply(array1, array2)\n",
        "divide = np.divide(array1, array2)\n",
        "\n",
        "print(\"Addition:\\n\", add)\n",
        "print(\"Subtraction:\\n\", subtract)\n",
        "print(\"Multiplication:\\n\", multiply)\n",
        "print(\"Division:\\n\", divide)\n"
      ],
      "metadata": {
        "colab": {
          "base_uri": "https://localhost:8080/"
        },
        "id": "81T59VJHmPQ6",
        "outputId": "70753931-b6c0-40b6-aac9-fedf48491ce2"
      },
      "execution_count": 24,
      "outputs": [
        {
          "output_type": "stream",
          "name": "stdout",
          "text": [
            "Addition:\n",
            " [[ 6  8]\n",
            " [10 12]]\n",
            "Subtraction:\n",
            " [[-4 -4]\n",
            " [-4 -4]]\n",
            "Multiplication:\n",
            " [[ 5 12]\n",
            " [21 32]]\n",
            "Division:\n",
            " [[0.2        0.33333333]\n",
            " [0.42857143 0.5       ]]\n"
          ]
        }
      ]
    },
    {
      "cell_type": "code",
      "source": [
        "#8. Use NumPy to create a 5x5 identity matrix, then extract its diagonal elements.\n",
        "# Create a 5x5 identity matrix\n",
        "identity_matrix = np.eye(5)\n",
        "print(\"Identity Matrix:\\n\", identity_matrix)\n",
        "\n",
        "# Extract diagonal elements\n",
        "diagonal_elements = np.diag(identity_matrix)\n",
        "print(\"Diagonal Elements:\\n\", diagonal_elements)\n"
      ],
      "metadata": {
        "colab": {
          "base_uri": "https://localhost:8080/"
        },
        "id": "OAtns4FZmbep",
        "outputId": "6f7f7437-245e-4a06-bad7-6861754bf397"
      },
      "execution_count": 25,
      "outputs": [
        {
          "output_type": "stream",
          "name": "stdout",
          "text": [
            "Identity Matrix:\n",
            " [[1. 0. 0. 0. 0.]\n",
            " [0. 1. 0. 0. 0.]\n",
            " [0. 0. 1. 0. 0.]\n",
            " [0. 0. 0. 1. 0.]\n",
            " [0. 0. 0. 0. 1.]]\n",
            "Diagonal Elements:\n",
            " [1. 1. 1. 1. 1.]\n"
          ]
        }
      ]
    },
    {
      "cell_type": "code",
      "source": [
        "#9. Generate a NumPy array of 100 random integers between 0 and 1000. Find and display all prime numbers in this array.\n",
        "# Create an array of 100 random integers between 0 and 1000\n",
        "random_integers = np.random.randint(0, 1001, size=100)\n",
        "print(\"Random Integers:\\n\", random_integers)\n",
        "\n",
        "# Function to check if a number is prime\n",
        "def is_prime(n):\n",
        "    if n <= 1:\n",
        "        return False\n",
        "    for i in range(2, int(np.sqrt(n)) + 1):\n",
        "        if n % i == 0:\n",
        "            return False\n",
        "    return True\n",
        "\n",
        "# Find prime numbers\n",
        "prime_numbers = np.array([num for num in random_integers if is_prime(num)])\n",
        "print(\"Prime Numbers:\\n\", prime_numbers)\n"
      ],
      "metadata": {
        "colab": {
          "base_uri": "https://localhost:8080/"
        },
        "id": "8eE-KxmumlpY",
        "outputId": "c523a574-9e5b-47d5-e668-0b67a896160a"
      },
      "execution_count": 26,
      "outputs": [
        {
          "output_type": "stream",
          "name": "stdout",
          "text": [
            "Random Integers:\n",
            " [692 682 765 393 338 391 184 154 141 438 263 848 872 182 570  42 543 153\n",
            "   4 486 332  25 539 728 749 598 907 870 897 568 391 905 290 934 805 564\n",
            " 195 688 942 309 728 287 733 244 645 656 488 395 613  81  12 835 389  80\n",
            " 999 841 669 896 512 826 315 132  90  86 218 276 114 893 272 318 240 725\n",
            " 927 855 477 790 529 242 918 921 948  46 735 448  80 268 193 597 575 779\n",
            "  59 227 672 494  95 369 226 680 160 230]\n",
            "Prime Numbers:\n",
            " [263 907 733 613 389 193  59 227]\n"
          ]
        }
      ]
    },
    {
      "cell_type": "code",
      "source": [
        "#10. Create a NumPy array representing daily temperatures for a month. Calculate and display the weekly averages.\n",
        "import numpy as np\n",
        "\n",
        "# Your daily temperatures\n",
        "daily_temperatures = np.array([34, 37, 30, 25, 27, 34, 35, 34, 38, 36, 27, 22, 24, 28, 29, 22, 27, 38, 22, 26, 35, 33, 22, 21, 37, 30, 27, 34, 21, 24])\n",
        "print(\"Daily Temperatures:\\n\", daily_temperatures)\n",
        "\n",
        "# Splitting the array into weeks\n",
        "weekly_splits = np.array_split(daily_temperatures, 5)\n",
        "print(\"Weekly Splits:\\n\", weekly_splits)\n",
        "\n",
        "# Calculating weekly averages\n",
        "weekly_averages = [np.mean(week) for week in weekly_splits]\n",
        "print(\"Weekly Averages:\\n\", weekly_averages)\n",
        "\n"
      ],
      "metadata": {
        "colab": {
          "base_uri": "https://localhost:8080/"
        },
        "id": "Ns8ceb30myXB",
        "outputId": "9712ccbe-89e0-4fa3-c481-3b61061a7b3e"
      },
      "execution_count": 28,
      "outputs": [
        {
          "output_type": "stream",
          "name": "stdout",
          "text": [
            "Daily Temperatures:\n",
            " [34 37 30 25 27 34 35 34 38 36 27 22 24 28 29 22 27 38 22 26 35 33 22 21\n",
            " 37 30 27 34 21 24]\n",
            "Weekly Splits:\n",
            " [array([34, 37, 30, 25, 27, 34]), array([35, 34, 38, 36, 27, 22]), array([24, 28, 29, 22, 27, 38]), array([22, 26, 35, 33, 22, 21]), array([37, 30, 27, 34, 21, 24])]\n",
            "Weekly Averages:\n",
            " [31.166666666666668, 32.0, 28.0, 26.5, 28.833333333333332]\n"
          ]
        }
      ]
    }
  ]
}